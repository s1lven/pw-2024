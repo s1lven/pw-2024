{
 "cells": [
  {
   "attachments": {},
   "cell_type": "markdown",
   "metadata": {},
   "source": [
    "**UNIVERSIDADE LUSÓFONA**\n",
    "\n",
    "# Programação Web -  Ficha 2: Python\n",
    "\n",
    "* Estes exercícios estão redigidos em forma de tutorial para aprender e exercitar conceitos chave do Python. \n",
    "* Consulte os slides se tiver dúvidas. Estes contêm toda a matéria necessária para realizar estes exercícios.\n",
    "* Consulte os [video-tutoriais](https://educast.fccn.pt/vod/channels/1fzfn2fjbd?locale=en) curtos que explicam conceitos específicos do Python.\n",
    "\n",
    "\n",
    "# 1 Listas de números\n",
    "Considere a seguinte lista (execute a linha de código seguinte para que a lista fique definida no Jupyter)"
   ]
  },
  {
   "cell_type": "code",
   "execution_count": 2,
   "metadata": {},
   "outputs": [],
   "source": [
    "lista = [1, 4, 6, 22, 4, 7, 13, 12, 2, 3, 5]"
   ]
  },
  {
   "cell_type": "code",
   "execution_count": 3,
   "metadata": {},
   "outputs": [
    {
     "name": "stdout",
     "output_type": "stream",
     "text": [
      "1\n"
     ]
    }
   ],
   "source": [
    "print(lista[0])"
   ]
  },
  {
   "cell_type": "markdown",
   "metadata": {},
   "source": [
    "Lembre-se que existe:\n",
    "* uma indexação que vai da esquerda para a direita e começa no 0, \n",
    "* uma indexação que vai da direita para a esquerda e começa no -1  \n",
    "\n",
    "\n",
    "\n",
    "1.1 imprima o numero que está na posição de indice 2"
   ]
  },
  {
   "cell_type": "code",
   "execution_count": null,
   "metadata": {},
   "outputs": [
    {
     "name": "stdout",
     "output_type": "stream",
     "text": [
      "6\n"
     ]
    }
   ],
   "source": [
    "print(lista[1])"
   ]
  },
  {
   "cell_type": "markdown",
   "metadata": {},
   "source": [
    "1.2 imprima o numero que está na penúltima posição da lista."
   ]
  },
  {
   "cell_type": "code",
   "execution_count": 9,
   "metadata": {},
   "outputs": [
    {
     "name": "stdout",
     "output_type": "stream",
     "text": [
      "3\n"
     ]
    }
   ],
   "source": [
    "print(lista[-2])"
   ]
  },
  {
   "cell_type": "markdown",
   "metadata": {},
   "source": [
    "1.3 imprima todos os números desta lista separados por espaços (use o atributo `end` da função `print`). Lembre-se que com um ciclo `for` pode iterar diretamente pelos elementos da lista."
   ]
  },
  {
   "cell_type": "markdown",
   "metadata": {},
   "source": []
  },
  {
   "cell_type": "code",
   "execution_count": null,
   "metadata": {},
   "outputs": [],
   "source": [
    "for num in lista:\n",
    "    print(num, end=\" \")"
   ]
  },
  {
   "cell_type": "markdown",
   "metadata": {},
   "source": [
    "Criemos uma lista dos números de 20 a 30. Imprimamos a posição e valor de cada elemento da lista"
   ]
  },
  {
   "cell_type": "code",
   "execution_count": null,
   "metadata": {},
   "outputs": [
    {
     "name": "stdout",
     "output_type": "stream",
     "text": [
      "posição 00: 20\n",
      "posição 01: 21\n",
      "posição 02: 22\n",
      "posição 03: 23\n",
      "posição 04: 24\n",
      "posição 05: 25\n",
      "posição 06: 26\n",
      "posição 07: 27\n",
      "posição 08: 28\n",
      "posição 09: 29\n",
      "posição 10: 30\n"
     ]
    }
   ],
   "source": [
    "lista_numeros = []  \n",
    "for numero in range(20, 30+1):   \n",
    "    lista_numeros.append(numero)\n",
    "    \n",
    "for i, n in enumerate(lista_numeros):\n",
    "    print(f\"posição {i:02}: {n}\")"
   ]
  },
  {
   "cell_type": "markdown",
   "metadata": {},
   "source": [
    "1.4. Recorrendo a um ciclo `for`, faça um programa que \n",
    "1. some todos os números pares da variável `lista` \n",
    "1. crie a lista pares, dos elementos pares da lista\n",
    "1. imprima o resultado e a lista pares.\n",
    "\n",
    "Resultado esperado:\n",
    "```\n",
    "A soma dos numeros pares da lista é 50\n",
    "Lista dos números pares: [4, 6, 22, 4, 12, 2]\n",
    "```"
   ]
  },
  {
   "cell_type": "code",
   "execution_count": 13,
   "metadata": {},
   "outputs": [
    {
     "name": "stdout",
     "output_type": "stream",
     "text": [
      "A soma dos números pares da lista é 50\n",
      "Lista dos números pares: [4, 6, 22, 4, 12, 2]\n"
     ]
    }
   ],
   "source": [
    "soma_pares = sum(num for num in lista if num % 2 == 0)\n",
    "lista_pares = [num for num in lista if num % 2 == 0]\n",
    "print(f\"A soma dos números pares da lista é {soma_pares}\")\n",
    "print(f\"Lista dos números pares: {lista_pares}\")\n",
    "\n"
   ]
  },
  {
   "cell_type": "markdown",
   "metadata": {},
   "source": [
    "1.5 Faça um programa que imprime o índice da posição e o valor de cada elemento de `lista`. Utilize a função `enumerate`.\n",
    "\n",
    "resultado esperado:\n",
    "```\n",
    "Na posição de indice 0 está o 1\n",
    "Na posição de indice 1 está o 4\n",
    "...\n",
    "```"
   ]
  },
  {
   "cell_type": "code",
   "execution_count": 14,
   "metadata": {},
   "outputs": [
    {
     "name": "stdout",
     "output_type": "stream",
     "text": [
      "Na posição de índice 0 está o 1\n",
      "Na posição de índice 1 está o 4\n",
      "Na posição de índice 2 está o 6\n",
      "Na posição de índice 3 está o 22\n",
      "Na posição de índice 4 está o 4\n",
      "Na posição de índice 5 está o 7\n",
      "Na posição de índice 6 está o 13\n",
      "Na posição de índice 7 está o 12\n",
      "Na posição de índice 8 está o 2\n",
      "Na posição de índice 9 está o 3\n",
      "Na posição de índice 10 está o 5\n"
     ]
    }
   ],
   "source": [
    "for i, num in enumerate(lista):\n",
    "    print(f\"Na posição de índice {i} está o {num}\")"
   ]
  },
  {
   "cell_type": "markdown",
   "metadata": {},
   "source": [
    "Crie uma lista com os números de 1 a 10 usando uma compreensão"
   ]
  },
  {
   "cell_type": "code",
   "execution_count": null,
   "metadata": {},
   "outputs": [],
   "source": [
    "lista = [i for i in range(1,10+1)]"
   ]
  },
  {
   "cell_type": "markdown",
   "metadata": {},
   "source": [
    "1.6 Crie uma lista com os números de 100 a 200 usando uma compreensão"
   ]
  },
  {
   "cell_type": "code",
   "execution_count": null,
   "metadata": {},
   "outputs": [],
   "source": [
    "lista_100_200 = [i for i in range(100, 201)]\n",
    "print(lista_100_200)"
   ]
  },
  {
   "cell_type": "markdown",
   "metadata": {},
   "source": [
    "1.7 Cria uma lista com os números pares de 100 a 140, inclusivé,  usando uma compreensão"
   ]
  },
  {
   "cell_type": "code",
   "execution_count": null,
   "metadata": {},
   "outputs": [],
   "source": [
    "lista_pares_100_140 = [i for i in range(100, 141, 2)]\n",
    "print(lista_pares_100_140)"
   ]
  },
  {
   "cell_type": "markdown",
   "metadata": {},
   "source": [
    "1.8 Ordene a `lista` crescentemente com o método `sort`, e imprima-a. Deve fazer em duas instruções separadas, primeiro ordene, e depois imprimir. "
   ]
  },
  {
   "cell_type": "code",
   "execution_count": 16,
   "metadata": {},
   "outputs": [
    {
     "name": "stdout",
     "output_type": "stream",
     "text": [
      "[1, 2, 3, 4, 4, 5, 6, 7, 12, 13, 22]\n"
     ]
    }
   ],
   "source": [
    "lista = [1, 4, 6, 22, 4, 7, 13, 12, 2, 3, 5]\n",
    "lista.sort()\n",
    "print(lista)\n"
   ]
  },
  {
   "attachments": {},
   "cell_type": "markdown",
   "metadata": {},
   "source": [
    "1.9  \n",
    "* Faça uma função que pede ao utilizador um número inteiro positivo. (Utilize o `try except` para garantir que não há erros por não inserir um inteiro). \n",
    "* Utilize a função para preencher uma lista apenas com os números que sejam pares.  \n",
    "* Ordene a lista de números, indique o maior, o menor, e o que ocorre mais vezes."
   ]
  },
  {
   "cell_type": "code",
   "execution_count": 18,
   "metadata": {},
   "outputs": [],
   "source": [
    "def processar_lista():\n",
    "    numeros = []\n",
    "    while True:\n",
    "        try:\n",
    "            num = int(input(\"Digite um número inteiro positivo (ou -1 para parar): \"))\n",
    "            if num == -1:\n",
    "                break\n",
    "            if num > 0 and num % 2 == 0:\n",
    "                numeros.append(num)\n",
    "        except ValueError:\n",
    "            print(\"Por favor, insira um número inteiro válido.\")\n",
    "\n",
    "    numeros.sort()\n",
    "    maior = max(numeros, default=\"Nenhum número\")\n",
    "    menor = min(numeros, default=\"Nenhum número\")\n",
    "    mais_frequente = max(set(numeros), key=numeros.count, default=\"Nenhum número\")\n",
    "\n",
    "    print(f\"Lista ordenada: {numeros}\")\n",
    "    print(f\"Maior número: {maior}\")\n",
    "    print(f\"Menor número: {menor}\")\n",
    "    print(f\"Número que ocorre mais vezes: {mais_frequente}\")"
   ]
  },
  {
   "cell_type": "markdown",
   "metadata": {},
   "source": [
    "# 2 Listas de strings\n",
    "\n",
    "Considere a seguinte lista: \n",
    "\n",
    "`nomes = [\"Maria\", \"Manuel\", \"Luis\", \"Augusta\", \"Zé\", \"Tolentino\", \"Ana\"]`\n",
    "\n",
    "\n",
    "\n",
    "2.1 Recorrendo a um ciclo e a formated strings, itere pelos vários nomes e imprima para cada nome uma frase do tipo:\n",
    "\n",
    "`Bom dia, Maria!`"
   ]
  },
  {
   "cell_type": "code",
   "execution_count": null,
   "metadata": {},
   "outputs": [],
   "source": [
    "for nome in nomes:\n",
    "    print(f\"Bom dia, {nome}!\")"
   ]
  },
  {
   "cell_type": "markdown",
   "metadata": {},
   "source": [
    "2.2 Crie uma lista ordenada alfabeticamente com o método sort, e imprima-a.\n",
    "\n",
    "Resultado esperado: `['Ana', 'Augusta', 'Luis', 'Manuel', 'Maria', 'Tolentino', 'Zé']`"
   ]
  },
  {
   "cell_type": "code",
   "execution_count": 19,
   "metadata": {},
   "outputs": [
    {
     "name": "stdout",
     "output_type": "stream",
     "text": [
      "['Ana', 'Augusta', 'Luis', 'Manuel', 'Maria', 'Tolentino', 'Zé']\n"
     ]
    }
   ],
   "source": [
    "nomes = [\"Maria\", \"Manuel\", \"Luis\", \"Augusta\", \"Zé\", \"Tolentino\", \"Ana\"]\n",
    "\n",
    "nomes.sort()\n",
    "print(nomes)\n"
   ]
  },
  {
   "cell_type": "markdown",
   "metadata": {},
   "source": [
    "2.3 Crie uma lista ordenada pelo número de carateres, de forma decrescente, e imprima-a. Use o atributo key e um lambda, tal como foi feito na aula.\n",
    "\n",
    "Resultado esperado: `['Tolentino', 'Augusta', 'Manuel', 'Maria', 'Luis', 'Ana', 'Zé']`"
   ]
  },
  {
   "cell_type": "code",
   "execution_count": null,
   "metadata": {},
   "outputs": [],
   "source": [
    "nomes_ordenados_tamanho = sorted(nomes, key=lambda x: len(x), reverse=True)\n",
    "print(nomes_ordenados_tamanho)"
   ]
  },
  {
   "cell_type": "markdown",
   "metadata": {},
   "source": [
    "2.4 Crie, com um ciclo for, uma nova lista, `lista_letras`, com a primeira letra de cada nome. Imprima-a (pode fazer diretamente `print(lista_letras)`)\n",
    "\n",
    "Resultado esperado: `['M', 'M', 'L', 'A', 'Z', 'T', 'A']`"
   ]
  },
  {
   "cell_type": "code",
   "execution_count": null,
   "metadata": {},
   "outputs": [],
   "source": [
    "lista_letras = [nome[0] for nome in nomes]\n",
    "print(lista_letras)\n"
   ]
  },
  {
   "cell_type": "markdown",
   "metadata": {},
   "source": [
    "2.5 Usando a lista `nomes`, crie com uma compreensão uma nova lista que guarda a primeira letra de cada nome."
   ]
  },
  {
   "cell_type": "code",
   "execution_count": null,
   "metadata": {},
   "outputs": [],
   "source": [
    "lista_letras_comp = [nome[0] for nome in nomes]\n",
    "print(lista_letras_comp)"
   ]
  },
  {
   "attachments": {},
   "cell_type": "markdown",
   "metadata": {},
   "source": [
    "2.6 Crie a lista `ladies` que itera pela lista `nomes` e guarda apenas os nomes terminados em \"a\".\n",
    "\n",
    "\n",
    "Resultado esperado: `['Maria', 'Augusta', 'Ana']`"
   ]
  },
  {
   "cell_type": "code",
   "execution_count": null,
   "metadata": {},
   "outputs": [],
   "source": [
    "ladies = [nome for nome in nomes if nome.endswith(\"a\")]\n",
    "print(ladies)"
   ]
  },
  {
   "cell_type": "markdown",
   "metadata": {},
   "source": [
    "2.7 Crie a lista `ladies` que guarda os nomes terminados em \"a\", usando uma compreensão"
   ]
  },
  {
   "cell_type": "code",
   "execution_count": 20,
   "metadata": {},
   "outputs": [
    {
     "name": "stdout",
     "output_type": "stream",
     "text": [
      "['Ana', 'Augusta', 'Maria']\n"
     ]
    }
   ],
   "source": [
    "ladies = [nome for nome in nomes if nome.endswith(\"a\")]\n",
    "print(ladies)"
   ]
  },
  {
   "attachments": {},
   "cell_type": "markdown",
   "metadata": {},
   "source": [
    "# 3 Processamento de listas com strings"
   ]
  },
  {
   "cell_type": "markdown",
   "metadata": {},
   "source": [
    "### Relembrando...\n",
    "\n",
    "No processamento de strings, dois métodos são muito úteis, split e find. Veja e experimente os exemplos em baixo:"
   ]
  },
  {
   "cell_type": "code",
   "execution_count": null,
   "metadata": {},
   "outputs": [],
   "source": [
    "\"Pedro Tamen, 1/1/1934\".split(', ')  # retorna uma lista de elementos separados por ', '"
   ]
  },
  {
   "cell_type": "code",
   "execution_count": null,
   "metadata": {
    "scrolled": true
   },
   "outputs": [],
   "source": [
    "\"Pedro Tamen, 1/1/1934\".split(',')[0]  # podemos aceder ao primeiro elemento da lista, o nome completo"
   ]
  },
  {
   "cell_type": "code",
   "execution_count": null,
   "metadata": {},
   "outputs": [],
   "source": [
    "# extraia o apelido da variável em baixo\n",
    "\n",
    "nome = \"Pedro Tamen, 1/1/1934\"\n",
    "nome.split()[1][:-1]"
   ]
  },
  {
   "cell_type": "markdown",
   "metadata": {},
   "source": [
    "As compreensões também são formas simples de transformar uma lista. Por exemplo, criemos a lista com a primeira letra de cada pessoa: "
   ]
  },
  {
   "cell_type": "code",
   "execution_count": 3,
   "metadata": {},
   "outputs": [
    {
     "name": "stdout",
     "output_type": "stream",
     "text": [
      "['P', 'A', 'C', 'A', 'I', 'A', 'A', 'R', 'M', 'M', 'L', 'M', 'L', 'N', 'T', 'A', 'J', 'C', 'L', 'M', 'F', 'H', 'F']\n"
     ]
    }
   ],
   "source": [
    "dados = [\n",
    "    \"Pedro Tamen, 1/1/1934\", \n",
    "    \"Almeida Garrett, 4/2/1799\",\n",
    "    \"Camilo Pessanha, 7/9/1867\",\n",
    "    \"Almada Negreiros, 7/5/1893\",\n",
    "    \"Ibn Bassam, 21/11/1058\",\n",
    "    \"Antonio Aleixo, 18/2/1899\",\n",
    "    \"Agustina Bessa-Luís, 15/10/1922\",\n",
    "    \"Ricardo Reis, 19/9/1887\",\n",
    "    \"Mario Sá-Carneiro, 19/5/1890\",\n",
    "    \"Mario Cesariny, 9/9/1923\",\n",
    "    \"Luis Camões, 10/6/1524\",\n",
    "    \"Miguel Torga, 12/8/1907\",\n",
    "    \"Lidia Jorge, 18/10/1946\",\n",
    "    \"Natália Correia, 12/9/1923\",\n",
    "    \"Tolentino Mendonça, 15/12/1965\",\n",
    "    \"Alberto Caeiro, 16/5/1889\",\n",
    "    \"Jose Saramago, 16/11/1922\",\n",
    "    \"Cesario Verde, 25/2/1855\",\n",
    "    \"Luiz Pacheco, 7/5/1925\",\n",
    "    \"Manuel Alegre, 12/5/1936\",\n",
    "    \"Fernando Pessoa, 13/6/1888\",\n",
    "    \"Herberto Helder, 23/11/1930\",\n",
    "    \"Florbela Espanca, 8/12/1894\"\n",
    "]\n",
    "\n",
    "letras = [info[0] for info in dados]\n",
    "print(letras)"
   ]
  },
  {
   "cell_type": "markdown",
   "metadata": {},
   "source": [
    "### Exercicios \n",
    "Considere a seguinte lista de escritores portugueses e suas datas de nascimento:"
   ]
  },
  {
   "cell_type": "code",
   "execution_count": 18,
   "metadata": {},
   "outputs": [],
   "source": [
    "dados = [\n",
    "    \"Pedro Tamen, 1/1/1934\", \n",
    "    \"Almeida Garrett, 4/2/1799\",\n",
    "    \"Camilo Pessanha, 7/9/1867\",\n",
    "    \"Almada Negreiros, 7/5/1893\",\n",
    "    \"Ibn Bassam, 21/11/1058\",\n",
    "    \"Antonio Aleixo, 18/2/1899\",\n",
    "    \"Agustina Bessa-Luís, 15/10/1922\",\n",
    "    \"Ricardo Reis, 19/9/1887\",\n",
    "    \"Mario Sá-Carneiro, 19/5/1890\",\n",
    "    \"Mario Cesariny, 9/9/1923\",\n",
    "    \"Luis Camões, 10/6/1524\",\n",
    "    \"Miguel Torga, 12/8/1907\",\n",
    "    \"Lidia Jorge, 18/10/1946\",\n",
    "    \"Natália Correia, 12/9/1923\",\n",
    "    \"Tolentino Mendonça, 15/12/1965\",\n",
    "    \"Alberto Caeiro, 16/5/1889\",\n",
    "    \"Jose Saramago, 16/11/1922\",\n",
    "    \"Cesario Verde, 25/2/1855\",\n",
    "    \"Luiz Pacheco, 7/5/1925\",\n",
    "    \"Manuel Alegre, 12/5/1936\",\n",
    "    \"Fernando Pessoa, 13/6/1888\",\n",
    "    \"Herberto Helder, 23/11/1930\",\n",
    "    \"Florbela Espanca, 8/12/1894\"\n",
    "]"
   ]
  },
  {
   "cell_type": "markdown",
   "metadata": {},
   "source": [
    "3.1 Crie, com um ciclo for, uma lista de strings, onde cada string tem o nome e apelido de cada pessoa. Utilize por exemplo o método split.\n",
    "\n",
    "   * Exemplo de excerto da lista: `nomes = [\"Pedro Tamen\", \"Almeida Garrett\", ...]` "
   ]
  },
  {
   "cell_type": "code",
   "execution_count": null,
   "metadata": {},
   "outputs": [],
   "source": [
    "nomes_completos = [info.split(\",\")[0] for info in dados]\n",
    "print(nomes_completos)"
   ]
  },
  {
   "cell_type": "markdown",
   "metadata": {},
   "source": [
    "3.2 Crie uma lista de strings, onde cada string tem a primeira letra (abreviatura) do nome e o apelido de cada pessoa. Tende depois utilizar uma compreensão.\n",
    "\n",
    "   * Exemplo de excerto da lista:  `nomes = [\"P.Tamen\", \"A.Garrett\", ...]` "
   ]
  },
  {
   "cell_type": "code",
   "execution_count": null,
   "metadata": {},
   "outputs": [],
   "source": [
    "nomes_abreviados = [f\"{info.split()[0][0]}.{info.split()[1]}\" for info in dados]\n",
    "print(nomes_abreviados)"
   ]
  },
  {
   "cell_type": "markdown",
   "metadata": {},
   "source": [
    "3.3 Ordene a lista pelo apelido\n",
    "\n",
    "Resultado esperado: `['M.Alegre', 'A.Aleixo', 'I.Bassam', 'A.Bessa-Luís', ...`"
   ]
  },
  {
   "cell_type": "code",
   "execution_count": null,
   "metadata": {},
   "outputs": [],
   "source": [
    "nomes_ordenados_apelido = sorted(nomes_abreviados, key=lambda x: x.split(\".\")[1])\n",
    "print(nomes_ordenados_apelido)"
   ]
  }
 ],
 "metadata": {
  "kernelspec": {
   "display_name": "Python 3",
   "language": "python",
   "name": "python3"
  },
  "language_info": {
   "codemirror_mode": {
    "name": "ipython",
    "version": 3
   },
   "file_extension": ".py",
   "mimetype": "text/x-python",
   "name": "python",
   "nbconvert_exporter": "python",
   "pygments_lexer": "ipython3",
   "version": "3.12.1"
  }
 },
 "nbformat": 4,
 "nbformat_minor": 4
}
