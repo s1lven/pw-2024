{
 "cells": [
  {
   "attachments": {},
   "cell_type": "markdown",
   "metadata": {},
   "source": [
    "**UNIVERSIDADE LUSÓFONA**\n",
    "\n",
    "# Programação Web -  Lab. 3: Python\n",
    "\n",
    "* Estes exercícios estão reidgidos em forma de tutorial para exercitar conceitos chave do Python associados com sets e dicionários. \n",
    "* Consulte os slides se tiver dúvidas. Estes contêm toda a matéria necessária para realizar estes exercícios.\n",
    "* Consulte os [video-tutoriais](https://educast.fccn.pt/vod/channels/1fzfn2fjbd?locale=en) curtos que explicam conceitos específicos do Python."
   ]
  },
  {
   "attachments": {},
   "cell_type": "markdown",
   "metadata": {
    "id": "cecSdetMJ8dx"
   },
   "source": [
    "# 1. Sets\n",
    "\n",
    "[sets: video-tutorial (5 min)](https://educast.fccn.pt/vod/clips/2h0d4s8ob4/desktop.mp4?locale=pt)\n",
    "\n",
    "No concurso Cody 2023 foi perguntado a cada grupo que concorreu qual a linguagem de programação que usou. Resultou na seguinte lista:"
   ]
  },
  {
   "cell_type": "code",
   "execution_count": 2,
   "metadata": {
    "id": "-Y8M2yLQJ8d3"
   },
   "outputs": [],
   "source": [
    "linguagens = ['Python', 'Kotlin', 'Java', 'Python', 'Python', 'Kotlin', 'Python', 'Java', \n",
    "              'Python', 'Python', 'C', 'Kotlin', 'Python', 'Java', 'Python', 'Python', \n",
    "              'C', 'Python', 'Java', 'Python', 'Python', 'Kotlin', 'Java', 'Kotlin',\n",
    "              'Python', 'Python', 'C', 'Kotlin', 'Python', 'Java', 'Python', 'Python', \n",
    "              'Kotlin', 'Python', 'Java', 'Python', 'Python', 'Kotlin', 'Python', 'Java', \n",
    "              'Python', 'Python', 'C', 'Kotlin', 'Python', 'Java', 'Python', 'Python', \n",
    "              'Kotlin', 'Python', 'Ruby', 'Python', 'Python', 'Kotlin', 'Python', 'Java', \n",
    "              'Python', 'Python', 'C', 'Kotlin', 'Python', 'Java', 'Python', 'Python', \n",
    "              'Kotlin', 'Python', 'Java', 'Python', 'Python', 'Kotlin', 'Python', 'Java', \n",
    "              'Python', 'Python', 'C', 'Kotlin', 'Python', 'Java', 'Python', 'Python', \n",
    "              'C', 'Python', 'Java', 'Python', 'Python', 'Kotlin', 'Java', 'Kotlin', \n",
    "              'Java', 'Python', 'Python', 'C', 'Java', 'Java']"
   ]
  },
  {
   "cell_type": "markdown",
   "metadata": {
    "id": "9dc7CSF9J8d5"
   },
   "source": [
    "**1**\n",
    " \n",
    "Calcule quantos grupos concorreram"
   ]
  },
  {
   "cell_type": "code",
   "execution_count": 3,
   "metadata": {
    "id": "086YZS7pJ8d6"
   },
   "outputs": [
    {
     "name": "stdout",
     "output_type": "stream",
     "text": [
      "94\n"
     ]
    }
   ],
   "source": [
    "# 1) Quantos grupos concorreram\n",
    "print(len(linguagens))\n"
   ]
  },
  {
   "cell_type": "markdown",
   "metadata": {
    "id": "9dc7CSF9J8d5"
   },
   "source": [
    "**2**\n",
    "\n",
    "Crie a variavel set_linguagens, que tem o set de linguagens indicadas pelos grupos\n",
    "\n",
    "Resultado esperado: `{'C', 'Java', 'Kotlin', 'Python', 'Ruby'}` \n",
    "\n",
    "Nota: o resultado pode estar noutra ordem pois um set é um conjunto onde os elementos não têm uma posição como nas sequências!"
   ]
  },
  {
   "cell_type": "code",
   "execution_count": 4,
   "metadata": {},
   "outputs": [
    {
     "name": "stdout",
     "output_type": "stream",
     "text": [
      "{'Ruby', 'Java', 'Kotlin', 'C', 'Python'}\n"
     ]
    }
   ],
   "source": [
    "set_linguagens = set(linguagens)\n",
    "print(set_linguagens)"
   ]
  },
  {
   "attachments": {},
   "cell_type": "markdown",
   "metadata": {},
   "source": [
    "**3**\n",
    "\n",
    "Para saber a quantidade de grupos que usaram uma determinada linguagem, pode usar o método count: \n",
    "\n",
    "`linguagens.count('Python')`\n",
    "\n",
    "Esta instrução faz o seguinte: na lista `linguagens`, `conta` as ocorrencias do elemento `Python`.\n",
    "\n",
    "Experimente-a para ver quantos grupos usaram Python."
   ]
  },
  {
   "cell_type": "code",
   "execution_count": 5,
   "metadata": {},
   "outputs": [
    {
     "name": "stdout",
     "output_type": "stream",
     "text": [
      "49\n"
     ]
    }
   ],
   "source": [
    "print(linguagens.count(\"Python\"))"
   ]
  },
  {
   "cell_type": "markdown",
   "metadata": {
    "id": "jZWABtadJ8d7"
   },
   "source": [
    "**4**\n",
    "\n",
    "Itere pelo set de linguagens, imprimindo o seu nome e a quantidade de ocorrencias  registadas na lista. Para tal, utilize o método `count()`. Exemplo do resultado esperado:\n",
    "\n",
    "```\n",
    "Kotlin: 17\n",
    "Python: 49\n",
    "Ruby: 1\n",
    "C: 8\n",
    "Java: 19\n",
    "```\n",
    "\n",
    "Nota: o resultado pode estar noutra ordem pois um set é um conjunto não ordenado, os elementos não têm uma posição!"
   ]
  },
  {
   "cell_type": "code",
   "execution_count": 6,
   "metadata": {
    "id": "086YZS7pJ8d6"
   },
   "outputs": [
    {
     "name": "stdout",
     "output_type": "stream",
     "text": [
      "Ruby 1\n",
      "Java 19\n",
      "Kotlin 17\n",
      "C 8\n",
      "Python 49\n"
     ]
    }
   ],
   "source": [
    "set_linguagens = set(linguagens)\n",
    "for lang in set_linguagens:\n",
    "    print(lang, linguagens.count(lang))"
   ]
  },
  {
   "attachments": {},
   "cell_type": "markdown",
   "metadata": {
    "id": "jZWABtadJ8d7"
   },
   "source": [
    "**5**\n",
    "\n",
    "Itere pelo set de linguagens, imprimindo uma frase que indique a linguagem e a quantidade de grupos da lista que a usaram. Exemplo do resultado esperado:\n",
    "\n",
    "```\n",
    "17 grupos usaram Kotlin\n",
    "49 grupos usaram Python\n",
    "1 grupo usou Ruby\n",
    "8 grupos usaram C\n",
    "19 grupos usaram Java\n",
    "```\n",
    "\n",
    "Deverá garantir que a frase diferencia quando existe apenas um grupo (frase no singular), ou mais do que um grupo (plural)."
   ]
  },
  {
   "cell_type": "code",
   "execution_count": 7,
   "metadata": {
    "id": "aa1jzFccJ8d8",
    "outputId": "8efe71d6-0d7c-4146-b6cf-677132a73304"
   },
   "outputs": [
    {
     "name": "stdout",
     "output_type": "stream",
     "text": [
      "1 grupo usou Ruby\n",
      "19 grupos usaram Java\n",
      "17 grupos usaram Kotlin\n",
      "8 grupos usaram C\n",
      "49 grupos usaram Python\n"
     ]
    }
   ],
   "source": [
    "set_linguagens = set(linguagens)\n",
    "for lang in set_linguagens:\n",
    "    c = linguagens.count(lang)\n",
    "    if c == 1:\n",
    "        print(f\"{c} grupo usou {lang}\")\n",
    "    else:\n",
    "        print(f\"{c} grupos usaram {lang}\")"
   ]
  },
  {
   "attachments": {},
   "cell_type": "markdown",
   "metadata": {},
   "source": [
    "# Dicionários"
   ]
  },
  {
   "cell_type": "markdown",
   "metadata": {},
   "source": [
    "**6**\n",
    "\n",
    "Crie o dicionário `dic_linguagens` que contabiliza a quantidade de grupos que gosta de cada uma das linguagens\n",
    "\n",
    "Resultado esperado (ordem arbitrária):<br> \n",
    "`{'Python': 49, 'Kotlin': 17, 'Ruby': 1, 'C': 8, 'Java': 19}`"
   ]
  },
  {
   "cell_type": "code",
   "execution_count": 8,
   "metadata": {},
   "outputs": [
    {
     "name": "stdout",
     "output_type": "stream",
     "text": [
      "{'Ruby': 1, 'Java': 19, 'Kotlin': 17, 'C': 8, 'Python': 49}\n"
     ]
    }
   ],
   "source": [
    "set_linguagens = set(linguagens)\n",
    "dic_linguagens = {}\n",
    "for lang in set_linguagens:\n",
    "    dic_linguagens[lang] = linguagens.count(lang)\n",
    "print(dic_linguagens)"
   ]
  },
  {
   "cell_type": "markdown",
   "metadata": {},
   "source": [
    "**7**\n",
    "\n",
    "Crie o dicionario `dic_linguagens` recorrendo a uma compreensão"
   ]
  },
  {
   "cell_type": "code",
   "execution_count": 9,
   "metadata": {},
   "outputs": [
    {
     "name": "stdout",
     "output_type": "stream",
     "text": [
      "{'Ruby': 1, 'Java': 19, 'Kotlin': 17, 'C': 8, 'Python': 49}\n"
     ]
    }
   ],
   "source": [
    "dic_linguagens_comp = {lang: linguagens.count(lang) for lang in set(linguagens)}\n",
    "print(dic_linguagens_comp)"
   ]
  },
  {
   "cell_type": "markdown",
   "metadata": {},
   "source": [
    "**8**\n",
    "\n",
    "Imprima os items de dic_linguagens no seguinte formato:\n",
    "\n",
    "```\n",
    "Python: 49 likes 😀\n",
    "Kotlin: 17 likes 😀\n",
    "Ruby: 1 likes 😀\n",
    "C: 8 likes 😀\n",
    "Java: 19 likes 😀\n",
    "```\n",
    "\n",
    "Nota: para inserir um emoji, prima nas teclas Windows + . "
   ]
  },
  {
   "cell_type": "code",
   "execution_count": 10,
   "metadata": {},
   "outputs": [
    {
     "name": "stdout",
     "output_type": "stream",
     "text": [
      "Ruby: 1 likes 😀\n",
      "Java: 19 likes 😀\n",
      "Kotlin: 17 likes 😀\n",
      "C: 8 likes 😀\n",
      "Python: 49 likes 😀\n"
     ]
    }
   ],
   "source": [
    "ic_linguagens = {'Python': 49, 'Kotlin': 17, 'Ruby': 1, 'C': 8, 'Java': 19}\n",
    "for lang, likes in dic_linguagens.items():\n",
    "    print(f\"{lang}: {likes} likes \\N{GRINNING FACE}\")"
   ]
  },
  {
   "cell_type": "markdown",
   "metadata": {},
   "source": [
    "**9**\n",
    "\n",
    "Converta o dicionario numa lista, ordene-a decrescentemente pela quantidade de likes, e imprima-a no seguinte formato. Se for a linguagem Python, imprima uma piton 🐍 (copie este carater). senão, um smile:\n",
    "```\n",
    "49 grupos: Python 🐍\n",
    "19 grupos: Java 😀\n",
    "17 grupos: Kotlin 😀\n",
    " 8 grupos: C 😀\n",
    " 1 grupos: Ruby 😀\n",
    " ```"
   ]
  },
  {
   "cell_type": "code",
   "execution_count": 11,
   "metadata": {},
   "outputs": [
    {
     "name": "stdout",
     "output_type": "stream",
     "text": [
      "49 grupos: Python 🐍\n",
      "19 grupos: Java 😀\n",
      "17 grupos: Kotlin 😀\n",
      "8 grupos: C 😀\n",
      "1 grupos: Ruby 😀\n"
     ]
    }
   ],
   "source": [
    "dic_linguagens = {'Python': 49, 'Kotlin': 17, 'Ruby': 1, 'C': 8, 'Java': 19}\n",
    "lista = list(dic_linguagens.items())\n",
    "lista.sort(key=lambda x: x[1], reverse=True)\n",
    "for lang, qtd in lista:\n",
    "    if lang == \"Python\":\n",
    "        print(f\"{qtd} grupos: {lang} \\N{SNAKE}\")\n",
    "    else:\n",
    "        print(f\"{qtd} grupos: {lang} \\N{GRINNING FACE}\")"
   ]
  },
  {
   "cell_type": "markdown",
   "metadata": {
    "id": "OoeFEOrRJ8eE"
   },
   "source": [
    "# Explorando um dicionário\n",
    "\n",
    "Considere o dicionário `programadores` em baixo que tem o inventário das linguagens de programação que vários programadores famosos inventaram e usaram"
   ]
  },
  {
   "cell_type": "code",
   "execution_count": 12,
   "metadata": {
    "id": "43AAAEGCJ8eE"
   },
   "outputs": [],
   "source": [
    "programadores = {\n",
    "    \"Guido van Rossum\": [\"Python\", \"JavaScript\"],\n",
    "    \"Dennis Ritchie\": [\"C\", \"Assembly\", \"B\"],\n",
    "    \"Bjarne Stroustrup\": [\"C++\", \"C\"],\n",
    "    \"Linus Torvalds\": [\"C\", \"Linux Kernel\", \"Git\", \"Python\"],\n",
    "    \"Larry Wall\": [\"Perl\", \"Raku\"],\n",
    "    \"James Gosling\": [\"Java\", \"Scala\"],\n",
    "    \"Ryan Dahl\": [\"JavaScript\", \"Node.js\", \"Rust\"],\n",
    "    \"Yukihiro Matsumoto\": [\"Ruby\", \"Elixir\"],\n",
    "    \"Rasmus Lerdorf\": [\"PHP\", \"Hack\"],\n",
    "    \"Anders Hejlsberg\": [\"C#\", \"TypeScript\"],\n",
    "    \"John McCarthy\": [\"Lisp\", \"Scheme\"],\n",
    "    \"Ken Thompson\": [\"C\", \"Unix\", \"Go\"],\n",
    "    \"Brian Kernighan\": [\"C\", \"Unix\"],\n",
    "    \"Rob Pike\": [\"Go\", \"Plan 9\"],\n",
    "    \"Grace Hopper\": [\"COBOL\"],\n",
    "    \"Ada Lovelace\": [\"Ada\"],\n",
    "    \"Donald Knuth\": [\"TeX\"],\n",
    "    \"Tim Berners-Lee\": [\"HTML\", \"HTTP\"],\n",
    "    \"Brendan Eich\": [\"JavaScript\"],\n",
    "    \"Richard Stallman\": [\"Emacs Lisp\", \"GNU Project\"],\n",
    "    \"Edsger W. Dijkstra\": [\"ALGOL\"],\n",
    "    \"Martin Odersky\": [\"Scala\"],\n",
    "    \"Mitchell Baker\": [\"JavaScript\", \"Rust\", \"WebAssembly\"]\n",
    "}"
   ]
  },
  {
   "cell_type": "markdown",
   "metadata": {
    "id": "BxfhxoNtJ8eE"
   },
   "source": [
    "**10**\n",
    "\n",
    "Considerando a variável `programadores`, escreva uma instrução que compute quantos programadores existem\n",
    "\n",
    "Resultado esperado: `Existem 23 programadores`"
   ]
  },
  {
   "cell_type": "code",
   "execution_count": 13,
   "metadata": {
    "id": "3WVGPM7zJ8eE"
   },
   "outputs": [
    {
     "name": "stdout",
     "output_type": "stream",
     "text": [
      "23\n"
     ]
    }
   ],
   "source": [
    "print(len(programadores))"
   ]
  },
  {
   "cell_type": "markdown",
   "metadata": {
    "id": "fQe9KZvPJ8eE"
   },
   "source": [
    "**11**\n",
    "\n",
    "Considerando que o dicionário segue a estrutura anterior, imprima a informação de quantas linguagens cada programador domina, iterando com um ciclo for pelos items do dicionário, e usando uma string formatada."
   ]
  },
  {
   "cell_type": "code",
   "execution_count": null,
   "metadata": {
    "id": "4FAlFfhkJ8eF"
   },
   "outputs": [
    {
     "name": "stdout",
     "output_type": "stream",
     "text": [
      "Guido van Rossum 2\n",
      "Dennis Ritchie 3\n",
      "Bjarne Stroustrup 2\n",
      "Linus Torvalds 4\n",
      "Larry Wall 2\n",
      "James Gosling 2\n",
      "Ryan Dahl 3\n",
      "Yukihiro Matsumoto 2\n",
      "Rasmus Lerdorf 2\n",
      "Anders Hejlsberg 2\n",
      "John McCarthy 2\n",
      "Ken Thompson 3\n",
      "Brian Kernighan 2\n",
      "Rob Pike 2\n",
      "Grace Hopper 1\n",
      "Ada Lovelace 1\n",
      "Donald Knuth 1\n",
      "Tim Berners-Lee 2\n",
      "Brendan Eich 1\n",
      "Richard Stallman 2\n",
      "Edsger W. Dijkstra 1\n",
      "Martin Odersky 1\n",
      "Mitchell Baker 3\n"
     ]
    }
   ],
   "source": [
    "print(len(programadores))"
   ]
  },
  {
   "cell_type": "markdown",
   "metadata": {
    "id": "rKy_5teCJ8eF"
   },
   "source": [
    "**11**\n",
    "\n",
    "Iterando pelo dicionario, crie um set com as diferentes linguagens que os programadores conhecem.\n",
    "\n",
    "Exemplo de resultado: `Python, JavaScript, Java, Kotlin`"
   ]
  },
  {
   "cell_type": "code",
   "execution_count": 20,
   "metadata": {
    "id": "imwLcTrkJ8eF"
   },
   "outputs": [
    {
     "name": "stdout",
     "output_type": "stream",
     "text": [
      "Guido van Rossum domina 2 linguagens.\n",
      "Dennis Ritchie domina 3 linguagens.\n",
      "Bjarne Stroustrup domina 2 linguagens.\n",
      "Linus Torvalds domina 5 linguagens.\n",
      "Larry Wall domina 2 linguagens.\n",
      "James Gosling domina 3 linguagens.\n",
      "Ryan Dahl domina 3 linguagens.\n",
      "Yukihiro Matsumoto domina 2 linguagens.\n",
      "Rasmus Lerdorf domina 2 linguagens.\n",
      "Anders Hejlsberg domina 2 linguagens.\n",
      "John McCarthy domina 2 linguagens.\n",
      "Ken Thompson domina 3 linguagens.\n",
      "Brian Kernighan domina 2 linguagens.\n",
      "Rob Pike domina 2 linguagens.\n",
      "Grace Hopper domina 1 linguagens.\n",
      "Ada Lovelace domina 1 linguagens.\n",
      "Donald Knuth domina 1 linguagens.\n",
      "Tim Berners-Lee domina 2 linguagens.\n",
      "Brendan Eich domina 1 linguagens.\n",
      "Richard Stallman domina 2 linguagens.\n",
      "Edsger W. Dijkstra domina 1 linguagens.\n",
      "Martin Odersky domina 1 linguagens.\n",
      "Mitchell Baker domina 3 linguagens.\n"
     ]
    }
   ],
   "source": [
    "for nome, langs in programadores.items():\n",
    "    print(f\"{nome} domina {len(langs)} linguagens.\")"
   ]
  },
  {
   "cell_type": "markdown",
   "metadata": {
    "id": "cdztO1ILJ8eG"
   },
   "source": [
    "**12**\n",
    "\n",
    "crie uma instrução para alterar o dicionário `programadores`, adicionando a linguagem `Python` ao `James Gosling` e `Linus Torvalds`."
   ]
  },
  {
   "cell_type": "code",
   "execution_count": 19,
   "metadata": {
    "id": "F1CcgVAlJ8eG"
   },
   "outputs": [
    {
     "name": "stdout",
     "output_type": "stream",
     "text": [
      "{'Rust', 'Java', 'Scala', 'Lisp', 'HTML', 'PHP', 'C', 'GNU Project', 'C++', 'Ruby', 'Git', 'ALGOL', 'Go', 'Perl', 'TypeScript', 'Raku', 'JavaScript', 'Python', 'WebAssembly', 'COBOL', 'Emacs Lisp', 'Plan 9', 'Scheme', 'TeX', 'Assembly', 'B', 'Linux Kernel', 'C#', 'Hack', 'HTTP', 'Node.js', 'Ada', 'Elixir', 'Unix'}\n"
     ]
    }
   ],
   "source": [
    "todas_linguagens = set()\n",
    "for langs in programadores.values():\n",
    "    todas_linguagens.update(langs)\n",
    "print(todas_linguagens)"
   ]
  },
  {
   "cell_type": "markdown",
   "metadata": {
    "id": "yZ9oUqQ0J8eF"
   },
   "source": [
    "**13**\n",
    "\n",
    "crie um código que, iterando pelo dicionário `programadores`, imprime os nomes dos programadores que dominam `Python`. utilize o operador `in`"
   ]
  },
  {
   "cell_type": "code",
   "execution_count": 18,
   "metadata": {
    "id": "JrKy0yuFJ8eF"
   },
   "outputs": [
    {
     "name": "stdout",
     "output_type": "stream",
     "text": [
      "['Java', 'Scala', 'Python'] ['C', 'Linux Kernel', 'Git', 'Python', 'Python']\n"
     ]
    }
   ],
   "source": [
    "programadores[\"James Gosling\"].append(\"Python\")\n",
    "programadores[\"Linus Torvalds\"].append(\"Python\")\n",
    "print(programadores[\"James Gosling\"], programadores[\"Linus Torvalds\"])"
   ]
  },
  {
   "cell_type": "markdown",
   "metadata": {},
   "source": [
    "**14**\n",
    "\n",
    "Crie um dicionário em que, para cada linguagem, guarda uma lista dos programadores que a dominam\n",
    "```\n",
    "{'Python': ['Manuel', 'Luis'],\n",
    " 'Kotlin': ['Manuel'],\n",
    " 'JavaScript': ['Maria', 'Luis'],\n",
    " 'Java': ['Maria', 'Luis']}\n",
    " ```"
   ]
  },
  {
   "cell_type": "code",
   "execution_count": 17,
   "metadata": {},
   "outputs": [
    {
     "name": "stdout",
     "output_type": "stream",
     "text": [
      "Guido van Rossum\n",
      "Linus Torvalds\n"
     ]
    }
   ],
   "source": [
    "for nome, langs in programadores.items():\n",
    "    if \"Python\" in langs:\n",
    "        print(nome)"
   ]
  },
  {
   "cell_type": "markdown",
   "metadata": {},
   "source": [
    "**15**\n",
    "\n",
    "Identifique a linguagem mais popular por entre estes programadores famosos. Para tal, transforme o dicionario numa lista, ordene-o pelo tamanho da lista e imprima o primeiro elemento. \n",
    "\n",
    "Desafio dificuldade extra: faça-o numa só instrução, usando uma compreensao e a função sorted"
   ]
  },
  {
   "cell_type": "code",
   "execution_count": 16,
   "metadata": {},
   "outputs": [
    {
     "name": "stdout",
     "output_type": "stream",
     "text": [
      "{'Python': ['Guido van Rossum', 'Linus Torvalds'], 'JavaScript': ['Guido van Rossum', 'Ryan Dahl', 'Brendan Eich', 'Mitchell Baker'], 'C': ['Dennis Ritchie', 'Bjarne Stroustrup', 'Linus Torvalds', 'Ken Thompson', 'Brian Kernighan'], 'Assembly': ['Dennis Ritchie'], 'B': ['Dennis Ritchie'], 'C++': ['Bjarne Stroustrup'], 'Linux Kernel': ['Linus Torvalds'], 'Git': ['Linus Torvalds'], 'Perl': ['Larry Wall'], 'Raku': ['Larry Wall'], 'Java': ['James Gosling'], 'Scala': ['James Gosling', 'Martin Odersky'], 'Node.js': ['Ryan Dahl'], 'Rust': ['Ryan Dahl', 'Mitchell Baker'], 'Ruby': ['Yukihiro Matsumoto'], 'Elixir': ['Yukihiro Matsumoto'], 'PHP': ['Rasmus Lerdorf'], 'Hack': ['Rasmus Lerdorf'], 'C#': ['Anders Hejlsberg'], 'TypeScript': ['Anders Hejlsberg'], 'Lisp': ['John McCarthy'], 'Scheme': ['John McCarthy'], 'Unix': ['Ken Thompson', 'Brian Kernighan'], 'Go': ['Ken Thompson', 'Rob Pike'], 'Plan 9': ['Rob Pike'], 'COBOL': ['Grace Hopper'], 'Ada': ['Ada Lovelace'], 'TeX': ['Donald Knuth'], 'HTML': ['Tim Berners-Lee'], 'HTTP': ['Tim Berners-Lee'], 'Emacs Lisp': ['Richard Stallman'], 'GNU Project': ['Richard Stallman'], 'ALGOL': ['Edsger W. Dijkstra'], 'WebAssembly': ['Mitchell Baker']}\n"
     ]
    }
   ],
   "source": [
    "dic_ling_prog = {}\n",
    "for nome, langs in programadores.items():\n",
    "    for l in langs:\n",
    "        if l not in dic_ling_prog:\n",
    "            dic_ling_prog[l] = []\n",
    "        dic_ling_prog[l].append(nome)\n",
    "print(dic_ling_prog)"
   ]
  },
  {
   "cell_type": "markdown",
   "metadata": {},
   "source": [
    "**16**\n",
    "\n",
    "Para cada uma das seguintes linguagens:\n",
    "* C\n",
    "* C++\n",
    "* Java\n",
    "* JavaScript\n",
    "* Python\n",
    "\n",
    "Crie um dicionario que guarde:\n",
    "* nome do criador\n",
    "* ano de criação\n",
    "* ranking em termos de tendência e utilização na industria\n",
    "* âmbito de utilização\n",
    "\n",
    "Consulte o ChatGPT para obter esta informação.\n",
    "\n",
    "Itere pelo dicionário para imprimir toda a informação que contém."
   ]
  },
  {
   "cell_type": "code",
   "execution_count": 15,
   "metadata": {},
   "outputs": [
    {
     "name": "stdout",
     "output_type": "stream",
     "text": [
      "('C', ['Dennis Ritchie', 'Bjarne Stroustrup', 'Linus Torvalds', 'Ken Thompson', 'Brian Kernighan'])\n"
     ]
    }
   ],
   "source": [
    "dic_ling_prog = {\n",
    "    \"Python\": [\"Guido van Rossum\",\"Linus Torvalds\",\"James Gosling\"],\n",
    "    \"JavaScript\": [\"Guido van Rossum\",\"Ryan Dahl\",\"Brendan Eich\",\"Mitchell Baker\"],\n",
    "    \"C\": [\"Dennis Ritchie\",\"Bjarne Stroustrup\",\"Linus Torvalds\",\"Ken Thompson\",\"Brian Kernighan\"],\n",
    "}\n",
    "mais_popular = sorted(dic_ling_prog.items(), key=lambda x: len(x[1]), reverse=True)[0]\n",
    "print(mais_popular)"
   ]
  },
  {
   "cell_type": "markdown",
   "metadata": {},
   "source": [
    "**17**\n",
    "\n",
    "A sala de alunos do DEISI HUB (Q.3.2) vai chamar-se Ada Lovelace. Pesquise na Internet quem foi esta pessoa e identifique um aspecto que gostou de descobrir. Descubra quem foi seu pai e que relação existe com Portugal."
   ]
  },
  {
   "cell_type": "markdown",
   "metadata": {},
   "source": [
    "Ada Locelace foi uma matemática, descobri que era mulher bonita pelo seu retrato e o seu pai foi Lord Byron que passou por Portugal, Sintra."
   ]
  },
  {
   "cell_type": "markdown",
   "metadata": {},
   "source": []
  },
  {
   "cell_type": "markdown",
   "metadata": {},
   "source": []
  }
 ],
 "metadata": {
  "colab": {
   "name": "padc-exercicios-04.ipynb",
   "provenance": []
  },
  "kernelspec": {
   "display_name": "Python 3",
   "language": "python",
   "name": "python3"
  },
  "language_info": {
   "codemirror_mode": {
    "name": "ipython",
    "version": 3
   },
   "file_extension": ".py",
   "mimetype": "text/x-python",
   "name": "python",
   "nbconvert_exporter": "python",
   "pygments_lexer": "ipython3",
   "version": "3.12.1"
  }
 },
 "nbformat": 4,
 "nbformat_minor": 1
}
